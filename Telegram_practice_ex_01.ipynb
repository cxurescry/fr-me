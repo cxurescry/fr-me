{
  "nbformat": 4,
  "nbformat_minor": 0,
  "metadata": {
    "colab": {
      "provenance": [],
      "include_colab_link": true
    },
    "kernelspec": {
      "name": "python3",
      "display_name": "Python 3"
    },
    "language_info": {
      "name": "python"
    }
  },
  "cells": [
    {
      "cell_type": "markdown",
      "metadata": {
        "id": "view-in-github",
        "colab_type": "text"
      },
      "source": [
        "<a href=\"https://colab.research.google.com/github/cxurescry/fr-me/blob/main/Telegram_practice_ex_01.ipynb\" target=\"_parent\"><img src=\"https://colab.research.google.com/assets/colab-badge.svg\" alt=\"Open In Colab\"/></a>"
      ]
    },
    {
      "cell_type": "code",
      "execution_count": null,
      "metadata": {
        "colab": {
          "base_uri": "https://localhost:8080/"
        },
        "id": "U9iGUyrgGp4G",
        "outputId": "f8639afe-8675-4af1-a2d5-a3d59ac67635"
      },
      "outputs": [
        {
          "output_type": "stream",
          "name": "stdout",
          "text": [
            "Collecting pytelegrambotapi\n",
            "  Downloading pyTelegramBotAPI-4.14.0.tar.gz (243 kB)\n",
            "     ━━━━━━━━━━━━━━━━━━━━━━━━━━━━━━━━━━━━━━━━ 243.1/243.1 kB 4.2 MB/s eta 0:00:00\n",
            "  Preparing metadata (setup.py): started\n",
            "  Preparing metadata (setup.py): finished with status 'done'\n",
            "Requirement already satisfied: requests in /usr/local/lib/python3.10/dist-packages (from pytelegrambotapi) (2.31.0)\n",
            "Requirement already satisfied: charset-normalizer<4,>=2 in /usr/local/lib/python3.10/dist-packages (from requests->pytelegrambotapi) (3.3.2)\n",
            "Requirement already satisfied: idna<4,>=2.5 in /usr/local/lib/python3.10/dist-packages (from requests->pytelegrambotapi) (3.4)\n",
            "Requirement already satisfied: urllib3<3,>=1.21.1 in /usr/local/lib/python3.10/dist-packages (from requests->pytelegrambotapi) (2.0.7)\n",
            "Requirement already satisfied: certifi>=2017.4.17 in /usr/local/lib/python3.10/dist-packages (from requests->pytelegrambotapi) (2023.7.22)\n",
            "Building wheels for collected packages: pytelegrambotapi\n",
            "  Building wheel for pytelegrambotapi (setup.py): started\n",
            "  Building wheel for pytelegrambotapi (setup.py): finished with status 'done'\n",
            "  Created wheel for pytelegrambotapi: filename=pyTelegramBotAPI-4.14.0-py3-none-any.whl size=215250 sha256=f63ed1ba018e6271bf756882fcd5bfcdfd713b0ebee7cc6dcaf3ff7020c9a3e1\n",
            "  Stored in directory: /root/.cache/pip/wheels/25/51/2d/24b40a366c85c37928d5aa36ddf257e5a79fad25e1ecd11b2c\n",
            "Successfully built pytelegrambotapi\n",
            "Installing collected packages: pytelegrambotapi\n",
            "Successfully installed pytelegrambotapi-4.14.0\n"
          ]
        }
      ],
      "source": [
        "%%bash\n",
        "pip install pytelegrambotapi"
      ]
    },
    {
      "cell_type": "code",
      "source": [
        "%%bash\n",
        "pip install emoji"
      ],
      "metadata": {
        "colab": {
          "base_uri": "https://localhost:8080/"
        },
        "id": "GOAD-ETeH-NT",
        "outputId": "e45fbfb0-87d8-4899-f3b9-77f42dcb8d1c"
      },
      "execution_count": null,
      "outputs": [
        {
          "output_type": "stream",
          "name": "stdout",
          "text": [
            "Collecting emoji\n",
            "  Downloading emoji-2.8.0-py2.py3-none-any.whl (358 kB)\n",
            "     ━━━━━━━━━━━━━━━━━━━━━━━━━━━━━━━━━━━━━━━━ 358.9/358.9 kB 5.4 MB/s eta 0:00:00\n",
            "Installing collected packages: emoji\n",
            "Successfully installed emoji-2.8.0\n"
          ]
        }
      ]
    },
    {
      "cell_type": "code",
      "source": [
        "#Примеры использования эмодзи\n",
        "import emoji\n",
        "#Список доступных эмодзи ниже:\n",
        "#https://unicode.org/emoji/charts/full-emoji-list.html\n",
        "smiling_face_emoji = emoji.emojize(':slightly_smiling_face:')\n",
        "cat_emoji = emoji.emojize(':cat:')\n",
        "ok_emoji = emoji.emojize(':OK_hand:')\n",
        "bot_emoji = emoji.emojize(':robot:')\n",
        "pencil_emoji = emoji.emojize(':pencil:')\n",
        "pen_emoji = emoji.emojize(':pen:')\n",
        "check_mark_emoji = emoji.emojize(':check_mark:')\n",
        "frowing_face_emoji=emoji.emojize(':slightly_frowning_face:')\n",
        "parrot_emoji = emoji.emojize(':parrot:')\n",
        "puzzle_piece_emoji = emoji.emojize(':puzzle_piece:')\n",
        "print(smiling_face_emoji,cat_emoji,ok_emoji,bot_emoji,pencil_emoji,pen_emoji,\n",
        "      check_mark_emoji,frowing_face_emoji,parrot_emoji,puzzle_piece_emoji)"
      ],
      "metadata": {
        "colab": {
          "base_uri": "https://localhost:8080/"
        },
        "id": "2hR-ygssICWw",
        "outputId": "038d5bf2-8e0c-4e85-ba52-513f254b1576"
      },
      "execution_count": null,
      "outputs": [
        {
          "output_type": "stream",
          "name": "stdout",
          "text": [
            "🙂 🐈 👌 🤖 ✏️ 🖊️ ✔️ 🙁 🦜 🧩\n"
          ]
        }
      ]
    },
    {
      "cell_type": "code",
      "source": [
        "#Подключение Телеграм-бота с помощью токена\n",
        "import telebot\n",
        "TELEGRAM_API_TOKEN = 'YOUR_TELEGRAM_API_TOKEN'\n",
        "bot = telebot.TeleBot(TELEGRAM_API_TOKEN)"
      ],
      "metadata": {
        "id": "1OEGTlGoKQOL"
      },
      "execution_count": null,
      "outputs": []
    },
    {
      "cell_type": "code",
      "source": [
        "#декоратор регистрирует функцию в качестве обработчика команд\n",
        "#обработка команд /start /begin /hello /hi\n",
        "@bot.message_handler(commands=['start','begin','hello', 'hi'])\n",
        "def main(message):\n",
        "  bot.send_message(message.chat.id,f'Добрый день {smiling_face_emoji}!')\n",
        "\n",
        "#обработка команды /actions\n",
        "@bot.message_handler(commands=['actions'])\n",
        "def main(message):\n",
        "  bot.send_message(message.chat.id,f'Сейчас наш бот {bot_emoji} умеет только отвечать на команды /start /main /hello /hi /actions и /help')\n",
        "\n",
        "#обработка команды /help\n",
        "@bot.message_handler(commands=['help'])\n",
        "def main(message):\n",
        "  bot.send_message(message.chat.id,f'<b>Здесь</b> будет <em>справочная информация</em> {puzzle_piece_emoji} о нашем <u> Телеграм-боте </u>', parse_mode='html')\n",
        "\n",
        "#обработка всех вводимых данных\n",
        "#При вводе 'Привет' или 'Добрый день' пишется ответ\n",
        "#При вводе 'Id' выводится идентификатор пользователя телеграм бота\n",
        "@bot.message_handler()\n",
        "def message_processing(message):\n",
        "  if (message.text.lower()=='привет') | (message.text.lower() == 'добрый день'):\n",
        "    bot.send_message(message.chat.id, f'{smiling_face_emoji} Приветствую {message.from_user.first_name} {message.from_user.last_name}')\n",
        "  elif message.text.lower()=='id':\n",
        "    bot.reply_to(message,f'ID {message.from_user.id}')"
      ],
      "metadata": {
        "id": "tyiJ9i0zLizH"
      },
      "execution_count": null,
      "outputs": []
    },
    {
      "cell_type": "code",
      "source": [
        "#Опрос серверов Telegram на наличие новых сообщений\n",
        "#interval - Интервал между запросами на опрос\n",
        "bot.polling(non_stop=True, interval=0)"
      ],
      "metadata": {
        "id": "9lYtHbO4Kc9e"
      },
      "execution_count": null,
      "outputs": []
    }
  ]
}